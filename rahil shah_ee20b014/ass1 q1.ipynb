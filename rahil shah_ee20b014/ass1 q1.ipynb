{
 "cells": [
  {
   "cell_type": "markdown",
   "metadata": {},
   "source": [
    "# Summer school assignment question 1"
   ]
  },
  {
   "cell_type": "code",
   "execution_count": 1,
   "metadata": {},
   "outputs": [],
   "source": [
    "import numpy as np"
   ]
  },
  {
   "cell_type": "code",
   "execution_count": 2,
   "metadata": {},
   "outputs": [],
   "source": [
    "y_cap = np.random.rand(100)"
   ]
  },
  {
   "cell_type": "code",
   "execution_count": 3,
   "metadata": {},
   "outputs": [
    {
     "data": {
      "text/plain": [
       "array([0.51902468, 0.97481133, 0.8520715 , 0.44706438, 0.27608957,\n",
       "       0.93715827, 0.18145329, 0.14647736, 0.04229162, 0.16901206,\n",
       "       0.86788233, 0.9005112 , 0.53063189, 0.28532069, 0.88658803,\n",
       "       0.51677895, 0.50565945, 0.22722329, 0.56990624, 0.96381632,\n",
       "       0.88968604, 0.42981026, 0.42884287, 0.42027282, 0.3682389 ,\n",
       "       0.87647468, 0.66053132, 0.23608338, 0.20399873, 0.87031524,\n",
       "       0.5202018 , 0.05362849, 0.41722294, 0.03775963, 0.61789667,\n",
       "       0.49258645, 0.92803792, 0.41792315, 0.74421457, 0.71996998,\n",
       "       0.90286446, 0.22908379, 0.29165808, 0.98013253, 0.44116218,\n",
       "       0.24023034, 0.92161227, 0.37067002, 0.62378467, 0.48717369,\n",
       "       0.53705214, 0.16145773, 0.5578451 , 0.13111887, 0.18281336,\n",
       "       0.15881114, 0.09568149, 0.17589279, 0.97722151, 0.64874421,\n",
       "       0.18346435, 0.75665857, 0.15518756, 0.70208373, 0.02764448,\n",
       "       0.64298402, 0.42698887, 0.55379223, 0.65472265, 0.19624666,\n",
       "       0.70917203, 0.93517347, 0.62451913, 0.96233129, 0.15347449,\n",
       "       0.6710471 , 0.85705881, 0.62404839, 0.62138288, 0.6630572 ,\n",
       "       0.85441052, 0.69890662, 0.56530563, 0.37800274, 0.40567515,\n",
       "       0.09755287, 0.94474467, 0.90333037, 0.01754378, 0.14478313,\n",
       "       0.40093489, 0.38300989, 0.20033928, 0.35887367, 0.34054053,\n",
       "       0.68620741, 0.52083606, 0.87835302, 0.64473408, 0.92548237])"
      ]
     },
     "execution_count": 3,
     "metadata": {},
     "output_type": "execute_result"
    }
   ],
   "source": [
    "y_cap"
   ]
  },
  {
   "cell_type": "markdown",
   "metadata": {},
   "source": [
    "Hence the array of 100 random numbers between 0 and 1 has been created"
   ]
  },
  {
   "cell_type": "code",
   "execution_count": 4,
   "metadata": {},
   "outputs": [],
   "source": [
    "y = np.random.randint(0,2,100)"
   ]
  },
  {
   "cell_type": "code",
   "execution_count": 5,
   "metadata": {},
   "outputs": [
    {
     "data": {
      "text/plain": [
       "array([1, 0, 0, 0, 0, 0, 0, 1, 0, 0, 1, 1, 1, 0, 0, 1, 0, 0, 0, 0, 1, 1,\n",
       "       0, 0, 0, 0, 0, 0, 1, 1, 0, 1, 1, 0, 1, 0, 0, 0, 1, 1, 0, 0, 1, 0,\n",
       "       0, 1, 0, 1, 1, 0, 1, 1, 1, 0, 1, 1, 0, 1, 0, 1, 0, 1, 1, 1, 0, 0,\n",
       "       1, 1, 1, 0, 0, 1, 0, 1, 1, 0, 0, 1, 1, 0, 0, 0, 0, 1, 0, 0, 1, 0,\n",
       "       0, 1, 1, 0, 0, 1, 1, 1, 0, 0, 1, 1])"
      ]
     },
     "execution_count": 5,
     "metadata": {},
     "output_type": "execute_result"
    }
   ],
   "source": [
    "y"
   ]
  },
  {
   "cell_type": "markdown",
   "metadata": {},
   "source": [
    "hence the array containg 0 and 1 has been created"
   ]
  },
  {
   "cell_type": "code",
   "execution_count": 6,
   "metadata": {},
   "outputs": [],
   "source": [
    "o = (y*(np.log2(y_cap))) + ((1-y)*(np.log2(1-y_cap)))"
   ]
  },
  {
   "cell_type": "code",
   "execution_count": 7,
   "metadata": {},
   "outputs": [],
   "source": [
    "o_answer = -(np.sum(o))/100"
   ]
  },
  {
   "cell_type": "code",
   "execution_count": 8,
   "metadata": {},
   "outputs": [
    {
     "data": {
      "text/plain": [
       "1.4190117030874438"
      ]
     },
     "execution_count": 8,
     "metadata": {},
     "output_type": "execute_result"
    }
   ],
   "source": [
    "o_answer"
   ]
  },
  {
   "cell_type": "markdown",
   "metadata": {},
   "source": [
    "Hence this is the solution of the question 1 of assignment 1 of summer school"
   ]
  },
  {
   "cell_type": "markdown",
   "metadata": {},
   "source": [
    "## Solving according to the test cases given"
   ]
  },
  {
   "cell_type": "code",
   "execution_count": 16,
   "metadata": {},
   "outputs": [
    {
     "data": {
      "text/plain": [
       "1.4752965067943884"
      ]
     },
     "execution_count": 16,
     "metadata": {},
     "output_type": "execute_result"
    }
   ],
   "source": [
    "#Test case 1 \n",
    "n = 5\n",
    "y_hat_1 = np.array([0.32, 0.56, 0.71, 0.14, 0.57])\n",
    "y_1 = np.array([1, 0, 1, 1, 0])\n",
    "#O_1 = 1.47529\n",
    "\n",
    "#generalising and forming a function to calculate o values of all test cases\n",
    "\n",
    "def o_value(y_hat, y_1, n):\n",
    "    o = (y_1*(np.log2(y_hat))) + ((1-y_1)*(np.log2(1-y_hat)))\n",
    "    o_answer = -(np.sum(o))/n\n",
    "    return o_answer\n",
    "\n",
    "\n",
    "#calling the function\n",
    "ans_1 = o_value(y_hat_1, y_1, n)\n",
    "ans_1"
   ]
  },
  {
   "cell_type": "code",
   "execution_count": 17,
   "metadata": {},
   "outputs": [
    {
     "data": {
      "text/plain": [
       "0.5946513734544251"
      ]
     },
     "execution_count": 17,
     "metadata": {},
     "output_type": "execute_result"
    }
   ],
   "source": [
    "#test case 2\n",
    "n = 4\n",
    "y_hat_2 = np.array([0.23, 0.54, 0.61, 0.89])\n",
    "y_2 = np.array([0, 0, 1, 1])\n",
    "O = 0.59465\n",
    "\n",
    "#calling the function\n",
    "o_value(y_hat_2, y_2, n)"
   ]
  },
  {
   "cell_type": "code",
   "execution_count": 19,
   "metadata": {},
   "outputs": [
    {
     "data": {
      "text/plain": [
       "0.8815394606426091"
      ]
     },
     "execution_count": 19,
     "metadata": {},
     "output_type": "execute_result"
    }
   ],
   "source": [
    "#Test Case 3:\n",
    "n = 7\n",
    "y_hat_3 = np.array([0.45, 0.10, 0.99, 0.32, 0.78, 0.81, 0.27])\n",
    "y_3 = np.array([1, 0, 1, 1, 1, 0, 0])\n",
    "O = 0.88153\n",
    "\n",
    "o_value(y_hat_3, y_3, n)"
   ]
  },
  {
   "cell_type": "markdown",
   "metadata": {},
   "source": [
    "### made by ee20b104, Rahil Amit Shah"
   ]
  },
  {
   "cell_type": "markdown",
   "metadata": {},
   "source": [
    "## Thank You"
   ]
  }
 ],
 "metadata": {
  "kernelspec": {
   "display_name": "Python 3",
   "language": "python",
   "name": "python3"
  },
  "language_info": {
   "codemirror_mode": {
    "name": "ipython",
    "version": 3
   },
   "file_extension": ".py",
   "mimetype": "text/x-python",
   "name": "python",
   "nbconvert_exporter": "python",
   "pygments_lexer": "ipython3",
   "version": "3.8.3"
  }
 },
 "nbformat": 4,
 "nbformat_minor": 4
}
