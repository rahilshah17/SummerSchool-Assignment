{
 "cells": [
  {
   "cell_type": "markdown",
   "metadata": {},
   "source": [
    "# Summer school assignment question 1"
   ]
  },
  {
   "cell_type": "markdown",
   "metadata": {},
   "source": [
    "### Write a Python class to find a pair of elements (indices of the two numbers) from a given array whose sum equals a specific target number."
   ]
  },
  {
   "cell_type": "markdown",
   "metadata": {},
   "source": [
    "### answer:"
   ]
  },
  {
   "cell_type": "code",
   "execution_count": 1,
   "metadata": {},
   "outputs": [
    {
     "name": "stdout",
     "output_type": "stream",
     "text": [
      "{1: [0, 3], 2: [2, 3], 3: [3, 0], 4: [3, 2]}\n"
     ]
    }
   ],
   "source": [
    "#defining a dictionary\n",
    "\n",
    "ind_dict = {}\n",
    "\n",
    "#forming classes and functions\n",
    "class ind_dict_class:\n",
    "    def get_dict(self,arr,n,sum):\n",
    "        z = 1   #initialising result\n",
    "        \n",
    "        #now we consider all the pairs and check their sums\n",
    "        for i in range(0, n):\n",
    "            for j in range(0,n):\n",
    "                if arr[i] + arr[j] == sum:\n",
    "                    ind_dict[z] = [i,j]\n",
    "                    z+=1\n",
    "                    \n",
    "        return ind_dict\n",
    "#solution to the test case 1\n",
    "\n",
    "#making objects and driver function\n",
    "arr = [10,20,10,40,50,60,70]\n",
    "n = len(arr)\n",
    "sum = 50\n",
    "obj_1 = ind_dict_class()\n",
    "call1 = obj_1.get_dict(arr,n,sum)\n",
    "print(call1)        "
   ]
  },
  {
   "cell_type": "code",
   "execution_count": 2,
   "metadata": {},
   "outputs": [
    {
     "name": "stdout",
     "output_type": "stream",
     "text": [
      "{1: [0, 2], 2: [2, 0], 3: [4, 6], 4: [5, 7], 5: [6, 4], 6: [7, 5]}\n"
     ]
    }
   ],
   "source": [
    "#Test Case 2:\n",
    "#Input: numbers= [14, 15, 25, 36, 17, 18, 22, 21]\n",
    "#Target=39\n",
    "\n",
    "arr_2 = [14, 15, 25, 36, 17, 18, 22, 21]\n",
    "sum_2 = 39\n",
    "n_2 = len(arr_2)\n",
    "obj_2 = ind_dict_class()\n",
    "call2 = obj_2.get_dict(arr_2, n_2, sum_2)\n",
    "print(call2)"
   ]
  },
  {
   "cell_type": "code",
   "execution_count": 3,
   "metadata": {},
   "outputs": [
    {
     "name": "stdout",
     "output_type": "stream",
     "text": [
      "{1: [1, 1], 2: [2, 3], 3: [3, 2], 4: [5, 7], 5: [6, 4], 6: [7, 5]}\n"
     ]
    }
   ],
   "source": [
    "#Test Case 3:\n",
    "#Input: numbers= [4, 10, 6, 14, 18, 19, 20]\n",
    "#Target=20\n",
    "\n",
    "arr_3 = [4, 10, 6, 14, 18, 19, 20]\n",
    "sum_3 = 20\n",
    "n_3 = len(arr_3)\n",
    "obj_3 = ind_dict_class()\n",
    "call3 = obj_3.get_dict(arr_3, n_3, sum_3)\n",
    "print(call3)"
   ]
  },
  {
   "cell_type": "markdown",
   "metadata": {},
   "source": [
    "#### Hence this is the solution of the question"
   ]
  }
 ],
 "metadata": {
  "kernelspec": {
   "display_name": "Python 3",
   "language": "python",
   "name": "python3"
  },
  "language_info": {
   "codemirror_mode": {
    "name": "ipython",
    "version": 3
   },
   "file_extension": ".py",
   "mimetype": "text/x-python",
   "name": "python",
   "nbconvert_exporter": "python",
   "pygments_lexer": "ipython3",
   "version": "3.8.3"
  }
 },
 "nbformat": 4,
 "nbformat_minor": 4
}
